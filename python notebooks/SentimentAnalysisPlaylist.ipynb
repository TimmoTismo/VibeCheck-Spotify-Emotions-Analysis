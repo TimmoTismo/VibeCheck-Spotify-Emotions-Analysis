{
 "metadata": {
  "language_info": {
   "codemirror_mode": {
    "name": "ipython",
    "version": 3
   },
   "file_extension": ".py",
   "mimetype": "text/x-python",
   "name": "python",
   "nbconvert_exporter": "python",
   "pygments_lexer": "ipython3",
   "version": "3.9.0"
  },
  "orig_nbformat": 2,
  "kernelspec": {
   "name": "python390jvsc74a57bd047a59b68f4c14334b938a311c4d9284db28cf61f8a4f605adee4da16031a8e7a",
   "display_name": "Python 3.9.0 64-bit"
  },
  "metadata": {
   "interpreter": {
    "hash": "47a59b68f4c14334b938a311c4d9284db28cf61f8a4f605adee4da16031a8e7a"
   }
  }
 },
 "nbformat": 4,
 "nbformat_minor": 2,
 "cells": [
  {
   "cell_type": "code",
   "execution_count": 1049,
   "metadata": {},
   "outputs": [],
   "source": [
    "import os, sys, json, webbrowser, pprint\n",
    "import spotipy \n",
    "import lyricsgenius\n",
    "import pandas as pd\n",
    "import nltk\n",
    "import spotipy.util as util\n",
    "import spotipy.oauth2 as oauth2\n",
    "from json.decoder import JSONDecodeError\n",
    "from spotipy.oauth2 import SpotifyOAuth, SpotifyClientCredentials\n",
    "from nltk.sentiment.vader import SentimentIntensityAnalyzer\n",
    "from requests.exceptions import Timeout\n"
   ]
  },
  {
   "cell_type": "code",
   "execution_count": 1050,
   "metadata": {},
   "outputs": [],
   "source": [
    "# Define variables\n",
    "username = 'g64129687775'\n",
    "client_id = 'd576e9eb16044adbaa2d22688fc73dd0'\n",
    "client_secret = '7b5cc4d0a7ce40ee9f8c0ea42aba241b'\n",
    "redirect_uri = 'http://localhost/'\n",
    "scope='user-read-recently-played'"
   ]
  },
  {
   "cell_type": "code",
   "execution_count": 1051,
   "metadata": {},
   "outputs": [],
   "source": [
    "# Create tokens\n",
    "token = SpotifyOAuth(client_id=client_id,client_secret=client_secret,redirect_uri=redirect_uri,scope=scope,username=username,show_dialog=True)\n",
    "genius_access_token = 'cQ15SgX_iCubNYTUW2pivTNrZbHmUIBHlzUHg2GEbDbrFUmzEVaRFE9BPvefe2io'"
   ]
  },
  {
   "cell_type": "code",
   "execution_count": 1052,
   "metadata": {},
   "outputs": [],
   "source": [
    "# Create API objects\n",
    "spotifyObject = spotipy.Spotify(auth_manager=token)\n",
    "geniusObject = lyricsgenius.Genius(genius_access_token)"
   ]
  },
  {
   "cell_type": "code",
   "execution_count": 1053,
   "metadata": {},
   "outputs": [],
   "source": [
    "# Create NLP analyser\n",
    "analyser = SentimentIntensityAnalyzer()"
   ]
  },
  {
   "cell_type": "code",
   "execution_count": 1054,
   "metadata": {
    "tags": []
   },
   "outputs": [],
   "source": [
    "# Get playlist\n",
    "playlist = spotifyObject.playlist('spotify:playlist:37i9dQZF1DX2yvmlOdMYzV')\n",
    "mood = 8\n",
    "playlist_name = playlist['name']"
   ]
  },
  {
   "cell_type": "code",
   "execution_count": 1055,
   "metadata": {},
   "outputs": [],
   "source": [
    "results = playlist['tracks']\n",
    "p = results['items']\n",
    "while results['next']:\n",
    "    results = spotifyObject.next(results)\n",
    "    p.extend(results['items'])"
   ]
  },
  {
   "cell_type": "code",
   "execution_count": 1056,
   "metadata": {},
   "outputs": [],
   "source": [
    "if mood == 1:\n",
    "    mood = 'Happy'\n",
    "elif mood == 2:\n",
    "    mood = 'Sad'\n",
    "elif mood == 3:\n",
    "    mood = 'Calm'\n",
    "elif mood == 4:\n",
    "    mood = 'Sleepy'\n",
    "elif mood == 5:\n",
    "    mood = 'Energised'\n",
    "elif mood == 6:\n",
    "    mood = 'Aroused'\n",
    "elif mood == 7:\n",
    "    mood = 'Angry'\n",
    "elif mood == 8:\n",
    "    mood = 'Chill'"
   ]
  },
  {
   "cell_type": "code",
   "execution_count": 1057,
   "metadata": {},
   "outputs": [],
   "source": [
    "\n",
    "# p_item = playlist['tracks']['items']\n",
    "\n",
    "# track_id = p_item[0]['track']['id']\n",
    "# track_name = p_item[0]['track']['name']\n",
    "# track_artists = p_item[0]['track']['artists']\n",
    "# song = geniusObject.search_song(title=track_name, artist=track_artists[0]['name'])\n",
    "# annotation = geniusObject.song_annotations(song.id)\n",
    "# print(song.lyrics+'\\n')\n",
    "# print(annotation)\n",
    "\n"
   ]
  },
  {
   "cell_type": "code",
   "execution_count": 1058,
   "metadata": {},
   "outputs": [],
   "source": [
    "geniusObject.timeout = 15"
   ]
  },
  {
   "cell_type": "code",
   "execution_count": 1059,
   "metadata": {},
   "outputs": [
    {
     "output_type": "stream",
     "name": "stdout",
     "text": [
      "Searching for \"North Face\" by ODIE...\n",
      "Done.\n",
      "Searching for \"Remember Me\" by UMI...\n",
      "Done.\n",
      "Searching for \"Mine\" by Alex Isley...\n",
      "Done.\n",
      "Searching for \"Shine\" by Cleo Sol...\n",
      "Done.\n",
      "Searching for \"Loverboy\" by Joesef...\n"
     ]
    },
    {
     "output_type": "error",
     "ename": "KeyboardInterrupt",
     "evalue": "",
     "traceback": [
      "\u001b[1;31m---------------------------------------------------------------------------\u001b[0m",
      "\u001b[1;31mKeyboardInterrupt\u001b[0m                         Traceback (most recent call last)",
      "\u001b[1;32m<ipython-input-1059-c29b3631ecd8>\u001b[0m in \u001b[0;36m<module>\u001b[1;34m\u001b[0m\n\u001b[0;32m     14\u001b[0m     \u001b[1;32mwhile\u001b[0m \u001b[0mretries\u001b[0m \u001b[1;33m<\u001b[0m \u001b[1;36m3\u001b[0m\u001b[1;33m:\u001b[0m\u001b[1;33m\u001b[0m\u001b[1;33m\u001b[0m\u001b[0m\n\u001b[0;32m     15\u001b[0m         \u001b[1;32mtry\u001b[0m\u001b[1;33m:\u001b[0m\u001b[1;33m\u001b[0m\u001b[1;33m\u001b[0m\u001b[0m\n\u001b[1;32m---> 16\u001b[1;33m             \u001b[0msong\u001b[0m \u001b[1;33m=\u001b[0m \u001b[0mgeniusObject\u001b[0m\u001b[1;33m.\u001b[0m\u001b[0msearch_song\u001b[0m\u001b[1;33m(\u001b[0m\u001b[0mtitle\u001b[0m\u001b[1;33m=\u001b[0m\u001b[0mtrack_name\u001b[0m\u001b[1;33m,\u001b[0m \u001b[0martist\u001b[0m\u001b[1;33m=\u001b[0m\u001b[0mtrack_artists\u001b[0m\u001b[1;33m[\u001b[0m\u001b[1;36m0\u001b[0m\u001b[1;33m]\u001b[0m\u001b[1;33m[\u001b[0m\u001b[1;34m'name'\u001b[0m\u001b[1;33m]\u001b[0m\u001b[1;33m)\u001b[0m\u001b[1;33m\u001b[0m\u001b[1;33m\u001b[0m\u001b[0m\n\u001b[0m\u001b[0;32m     17\u001b[0m         \u001b[1;32mexcept\u001b[0m \u001b[0mTimeout\u001b[0m \u001b[1;32mas\u001b[0m \u001b[0me\u001b[0m\u001b[1;33m:\u001b[0m\u001b[1;33m\u001b[0m\u001b[1;33m\u001b[0m\u001b[0m\n\u001b[0;32m     18\u001b[0m             \u001b[0mretries\u001b[0m \u001b[1;33m+=\u001b[0m \u001b[1;36m1\u001b[0m\u001b[1;33m\u001b[0m\u001b[1;33m\u001b[0m\u001b[0m\n",
      "\u001b[1;32m~\\AppData\\Local\\Programs\\Python\\Python39\\lib\\site-packages\\lyricsgenius\\genius.py\u001b[0m in \u001b[0;36msearch_song\u001b[1;34m(self, title, artist, song_id, get_full_info)\u001b[0m\n\u001b[0;32m    399\u001b[0m         \u001b[1;32melse\u001b[0m\u001b[1;33m:\u001b[0m\u001b[1;33m\u001b[0m\u001b[1;33m\u001b[0m\u001b[0m\n\u001b[0;32m    400\u001b[0m             \u001b[0msearch_term\u001b[0m \u001b[1;33m=\u001b[0m \u001b[1;34m\"{s} {a}\"\u001b[0m\u001b[1;33m.\u001b[0m\u001b[0mformat\u001b[0m\u001b[1;33m(\u001b[0m\u001b[0ms\u001b[0m\u001b[1;33m=\u001b[0m\u001b[0mtitle\u001b[0m\u001b[1;33m,\u001b[0m \u001b[0ma\u001b[0m\u001b[1;33m=\u001b[0m\u001b[0martist\u001b[0m\u001b[1;33m)\u001b[0m\u001b[1;33m.\u001b[0m\u001b[0mstrip\u001b[0m\u001b[1;33m(\u001b[0m\u001b[1;33m)\u001b[0m\u001b[1;33m\u001b[0m\u001b[1;33m\u001b[0m\u001b[0m\n\u001b[1;32m--> 401\u001b[1;33m             \u001b[0msearch_response\u001b[0m \u001b[1;33m=\u001b[0m \u001b[0mself\u001b[0m\u001b[1;33m.\u001b[0m\u001b[0msearch_all\u001b[0m\u001b[1;33m(\u001b[0m\u001b[0msearch_term\u001b[0m\u001b[1;33m)\u001b[0m\u001b[1;33m\u001b[0m\u001b[1;33m\u001b[0m\u001b[0m\n\u001b[0m\u001b[0;32m    402\u001b[0m             result = self._get_item_from_search_response(search_response,\n\u001b[0;32m    403\u001b[0m                                                          \u001b[0mtitle\u001b[0m\u001b[1;33m,\u001b[0m\u001b[1;33m\u001b[0m\u001b[1;33m\u001b[0m\u001b[0m\n",
      "\u001b[1;32m~\\AppData\\Local\\Programs\\Python\\Python39\\lib\\site-packages\\lyricsgenius\\api\\public_methods\\search.py\u001b[0m in \u001b[0;36msearch_all\u001b[1;34m(self, search_term, per_page, page)\u001b[0m\n\u001b[0;32m    208\u001b[0m         \"\"\"\n\u001b[0;32m    209\u001b[0m         \u001b[0mendpoint\u001b[0m \u001b[1;33m=\u001b[0m \u001b[1;34m'multi'\u001b[0m\u001b[1;33m\u001b[0m\u001b[1;33m\u001b[0m\u001b[0m\n\u001b[1;32m--> 210\u001b[1;33m         \u001b[1;32mreturn\u001b[0m \u001b[0mself\u001b[0m\u001b[1;33m.\u001b[0m\u001b[0msearch\u001b[0m\u001b[1;33m(\u001b[0m\u001b[0msearch_term\u001b[0m\u001b[1;33m,\u001b[0m \u001b[0mper_page\u001b[0m\u001b[1;33m,\u001b[0m \u001b[0mpage\u001b[0m\u001b[1;33m,\u001b[0m \u001b[0mendpoint\u001b[0m\u001b[1;33m)\u001b[0m\u001b[1;33m\u001b[0m\u001b[1;33m\u001b[0m\u001b[0m\n\u001b[0m",
      "\u001b[1;32m~\\AppData\\Local\\Programs\\Python\\Python39\\lib\\site-packages\\lyricsgenius\\api\\public_methods\\search.py\u001b[0m in \u001b[0;36msearch\u001b[1;34m(self, search_term, per_page, page, type_)\u001b[0m\n\u001b[0;32m     43\u001b[0m                   \u001b[1;34m'per_page'\u001b[0m\u001b[1;33m:\u001b[0m \u001b[0mper_page\u001b[0m\u001b[1;33m,\u001b[0m\u001b[1;33m\u001b[0m\u001b[1;33m\u001b[0m\u001b[0m\n\u001b[0;32m     44\u001b[0m                   'page': page}\n\u001b[1;32m---> 45\u001b[1;33m         \u001b[1;32mreturn\u001b[0m \u001b[0mself\u001b[0m\u001b[1;33m.\u001b[0m\u001b[0m_make_request\u001b[0m\u001b[1;33m(\u001b[0m\u001b[0mpath\u001b[0m\u001b[1;33m,\u001b[0m \u001b[0mparams_\u001b[0m\u001b[1;33m=\u001b[0m\u001b[0mparams\u001b[0m\u001b[1;33m,\u001b[0m \u001b[0mpublic_api\u001b[0m\u001b[1;33m=\u001b[0m\u001b[1;32mTrue\u001b[0m\u001b[1;33m)\u001b[0m\u001b[1;33m\u001b[0m\u001b[1;33m\u001b[0m\u001b[0m\n\u001b[0m\u001b[0;32m     46\u001b[0m \u001b[1;33m\u001b[0m\u001b[0m\n\u001b[0;32m     47\u001b[0m     \u001b[1;32mdef\u001b[0m \u001b[0msearch_albums\u001b[0m\u001b[1;33m(\u001b[0m\u001b[0mself\u001b[0m\u001b[1;33m,\u001b[0m \u001b[0msearch_term\u001b[0m\u001b[1;33m,\u001b[0m \u001b[0mper_page\u001b[0m\u001b[1;33m=\u001b[0m\u001b[1;32mNone\u001b[0m\u001b[1;33m,\u001b[0m \u001b[0mpage\u001b[0m\u001b[1;33m=\u001b[0m\u001b[1;32mNone\u001b[0m\u001b[1;33m)\u001b[0m\u001b[1;33m:\u001b[0m\u001b[1;33m\u001b[0m\u001b[1;33m\u001b[0m\u001b[0m\n",
      "\u001b[1;32m~\\AppData\\Local\\Programs\\Python\\Python39\\lib\\site-packages\\lyricsgenius\\api\\base.py\u001b[0m in \u001b[0;36m_make_request\u001b[1;34m(self, path, method, params_, public_api, web, **kwargs)\u001b[0m\n\u001b[0;32m     73\u001b[0m             \u001b[0mtries\u001b[0m \u001b[1;33m+=\u001b[0m \u001b[1;36m1\u001b[0m\u001b[1;33m\u001b[0m\u001b[1;33m\u001b[0m\u001b[0m\n\u001b[0;32m     74\u001b[0m             \u001b[1;32mtry\u001b[0m\u001b[1;33m:\u001b[0m\u001b[1;33m\u001b[0m\u001b[1;33m\u001b[0m\u001b[0m\n\u001b[1;32m---> 75\u001b[1;33m                 response = self._session.request(method, uri,\n\u001b[0m\u001b[0;32m     76\u001b[0m                                                  \u001b[0mtimeout\u001b[0m\u001b[1;33m=\u001b[0m\u001b[0mself\u001b[0m\u001b[1;33m.\u001b[0m\u001b[0mtimeout\u001b[0m\u001b[1;33m,\u001b[0m\u001b[1;33m\u001b[0m\u001b[1;33m\u001b[0m\u001b[0m\n\u001b[0;32m     77\u001b[0m                                                  \u001b[0mparams\u001b[0m\u001b[1;33m=\u001b[0m\u001b[0mparams_\u001b[0m\u001b[1;33m,\u001b[0m\u001b[1;33m\u001b[0m\u001b[1;33m\u001b[0m\u001b[0m\n",
      "\u001b[1;32m~\\AppData\\Local\\Programs\\Python\\Python39\\lib\\site-packages\\requests\\sessions.py\u001b[0m in \u001b[0;36mrequest\u001b[1;34m(self, method, url, params, data, headers, cookies, files, auth, timeout, allow_redirects, proxies, hooks, stream, verify, cert, json)\u001b[0m\n\u001b[0;32m    540\u001b[0m         }\n\u001b[0;32m    541\u001b[0m         \u001b[0msend_kwargs\u001b[0m\u001b[1;33m.\u001b[0m\u001b[0mupdate\u001b[0m\u001b[1;33m(\u001b[0m\u001b[0msettings\u001b[0m\u001b[1;33m)\u001b[0m\u001b[1;33m\u001b[0m\u001b[1;33m\u001b[0m\u001b[0m\n\u001b[1;32m--> 542\u001b[1;33m         \u001b[0mresp\u001b[0m \u001b[1;33m=\u001b[0m \u001b[0mself\u001b[0m\u001b[1;33m.\u001b[0m\u001b[0msend\u001b[0m\u001b[1;33m(\u001b[0m\u001b[0mprep\u001b[0m\u001b[1;33m,\u001b[0m \u001b[1;33m**\u001b[0m\u001b[0msend_kwargs\u001b[0m\u001b[1;33m)\u001b[0m\u001b[1;33m\u001b[0m\u001b[1;33m\u001b[0m\u001b[0m\n\u001b[0m\u001b[0;32m    543\u001b[0m \u001b[1;33m\u001b[0m\u001b[0m\n\u001b[0;32m    544\u001b[0m         \u001b[1;32mreturn\u001b[0m \u001b[0mresp\u001b[0m\u001b[1;33m\u001b[0m\u001b[1;33m\u001b[0m\u001b[0m\n",
      "\u001b[1;32m~\\AppData\\Local\\Programs\\Python\\Python39\\lib\\site-packages\\requests\\sessions.py\u001b[0m in \u001b[0;36msend\u001b[1;34m(self, request, **kwargs)\u001b[0m\n\u001b[0;32m    653\u001b[0m \u001b[1;33m\u001b[0m\u001b[0m\n\u001b[0;32m    654\u001b[0m         \u001b[1;31m# Send the request\u001b[0m\u001b[1;33m\u001b[0m\u001b[1;33m\u001b[0m\u001b[1;33m\u001b[0m\u001b[0m\n\u001b[1;32m--> 655\u001b[1;33m         \u001b[0mr\u001b[0m \u001b[1;33m=\u001b[0m \u001b[0madapter\u001b[0m\u001b[1;33m.\u001b[0m\u001b[0msend\u001b[0m\u001b[1;33m(\u001b[0m\u001b[0mrequest\u001b[0m\u001b[1;33m,\u001b[0m \u001b[1;33m**\u001b[0m\u001b[0mkwargs\u001b[0m\u001b[1;33m)\u001b[0m\u001b[1;33m\u001b[0m\u001b[1;33m\u001b[0m\u001b[0m\n\u001b[0m\u001b[0;32m    656\u001b[0m \u001b[1;33m\u001b[0m\u001b[0m\n\u001b[0;32m    657\u001b[0m         \u001b[1;31m# Total elapsed time of the request (approximately)\u001b[0m\u001b[1;33m\u001b[0m\u001b[1;33m\u001b[0m\u001b[1;33m\u001b[0m\u001b[0m\n",
      "\u001b[1;32m~\\AppData\\Local\\Programs\\Python\\Python39\\lib\\site-packages\\requests\\adapters.py\u001b[0m in \u001b[0;36msend\u001b[1;34m(self, request, stream, timeout, verify, cert, proxies)\u001b[0m\n\u001b[0;32m    437\u001b[0m         \u001b[1;32mtry\u001b[0m\u001b[1;33m:\u001b[0m\u001b[1;33m\u001b[0m\u001b[1;33m\u001b[0m\u001b[0m\n\u001b[0;32m    438\u001b[0m             \u001b[1;32mif\u001b[0m \u001b[1;32mnot\u001b[0m \u001b[0mchunked\u001b[0m\u001b[1;33m:\u001b[0m\u001b[1;33m\u001b[0m\u001b[1;33m\u001b[0m\u001b[0m\n\u001b[1;32m--> 439\u001b[1;33m                 resp = conn.urlopen(\n\u001b[0m\u001b[0;32m    440\u001b[0m                     \u001b[0mmethod\u001b[0m\u001b[1;33m=\u001b[0m\u001b[0mrequest\u001b[0m\u001b[1;33m.\u001b[0m\u001b[0mmethod\u001b[0m\u001b[1;33m,\u001b[0m\u001b[1;33m\u001b[0m\u001b[1;33m\u001b[0m\u001b[0m\n\u001b[0;32m    441\u001b[0m                     \u001b[0murl\u001b[0m\u001b[1;33m=\u001b[0m\u001b[0murl\u001b[0m\u001b[1;33m,\u001b[0m\u001b[1;33m\u001b[0m\u001b[1;33m\u001b[0m\u001b[0m\n",
      "\u001b[1;32m~\\AppData\\Local\\Programs\\Python\\Python39\\lib\\site-packages\\urllib3\\connectionpool.py\u001b[0m in \u001b[0;36murlopen\u001b[1;34m(self, method, url, body, headers, retries, redirect, assert_same_host, timeout, pool_timeout, release_conn, chunked, body_pos, **response_kw)\u001b[0m\n\u001b[0;32m    697\u001b[0m \u001b[1;33m\u001b[0m\u001b[0m\n\u001b[0;32m    698\u001b[0m             \u001b[1;31m# Make the request on the httplib connection object.\u001b[0m\u001b[1;33m\u001b[0m\u001b[1;33m\u001b[0m\u001b[1;33m\u001b[0m\u001b[0m\n\u001b[1;32m--> 699\u001b[1;33m             httplib_response = self._make_request(\n\u001b[0m\u001b[0;32m    700\u001b[0m                 \u001b[0mconn\u001b[0m\u001b[1;33m,\u001b[0m\u001b[1;33m\u001b[0m\u001b[1;33m\u001b[0m\u001b[0m\n\u001b[0;32m    701\u001b[0m                 \u001b[0mmethod\u001b[0m\u001b[1;33m,\u001b[0m\u001b[1;33m\u001b[0m\u001b[1;33m\u001b[0m\u001b[0m\n",
      "\u001b[1;32m~\\AppData\\Local\\Programs\\Python\\Python39\\lib\\site-packages\\urllib3\\connectionpool.py\u001b[0m in \u001b[0;36m_make_request\u001b[1;34m(self, conn, method, url, timeout, chunked, **httplib_request_kw)\u001b[0m\n\u001b[0;32m    443\u001b[0m                     \u001b[1;31m# Python 3 (including for exceptions like SystemExit).\u001b[0m\u001b[1;33m\u001b[0m\u001b[1;33m\u001b[0m\u001b[1;33m\u001b[0m\u001b[0m\n\u001b[0;32m    444\u001b[0m                     \u001b[1;31m# Otherwise it looks like a bug in the code.\u001b[0m\u001b[1;33m\u001b[0m\u001b[1;33m\u001b[0m\u001b[1;33m\u001b[0m\u001b[0m\n\u001b[1;32m--> 445\u001b[1;33m                     \u001b[0msix\u001b[0m\u001b[1;33m.\u001b[0m\u001b[0mraise_from\u001b[0m\u001b[1;33m(\u001b[0m\u001b[0me\u001b[0m\u001b[1;33m,\u001b[0m \u001b[1;32mNone\u001b[0m\u001b[1;33m)\u001b[0m\u001b[1;33m\u001b[0m\u001b[1;33m\u001b[0m\u001b[0m\n\u001b[0m\u001b[0;32m    446\u001b[0m         \u001b[1;32mexcept\u001b[0m \u001b[1;33m(\u001b[0m\u001b[0mSocketTimeout\u001b[0m\u001b[1;33m,\u001b[0m \u001b[0mBaseSSLError\u001b[0m\u001b[1;33m,\u001b[0m \u001b[0mSocketError\u001b[0m\u001b[1;33m)\u001b[0m \u001b[1;32mas\u001b[0m \u001b[0me\u001b[0m\u001b[1;33m:\u001b[0m\u001b[1;33m\u001b[0m\u001b[1;33m\u001b[0m\u001b[0m\n\u001b[0;32m    447\u001b[0m             \u001b[0mself\u001b[0m\u001b[1;33m.\u001b[0m\u001b[0m_raise_timeout\u001b[0m\u001b[1;33m(\u001b[0m\u001b[0merr\u001b[0m\u001b[1;33m=\u001b[0m\u001b[0me\u001b[0m\u001b[1;33m,\u001b[0m \u001b[0murl\u001b[0m\u001b[1;33m=\u001b[0m\u001b[0murl\u001b[0m\u001b[1;33m,\u001b[0m \u001b[0mtimeout_value\u001b[0m\u001b[1;33m=\u001b[0m\u001b[0mread_timeout\u001b[0m\u001b[1;33m)\u001b[0m\u001b[1;33m\u001b[0m\u001b[1;33m\u001b[0m\u001b[0m\n",
      "\u001b[1;32m~\\AppData\\Local\\Programs\\Python\\Python39\\lib\\site-packages\\urllib3\\packages\\six.py\u001b[0m in \u001b[0;36mraise_from\u001b[1;34m(value, from_value)\u001b[0m\n",
      "\u001b[1;32m~\\AppData\\Local\\Programs\\Python\\Python39\\lib\\site-packages\\urllib3\\connectionpool.py\u001b[0m in \u001b[0;36m_make_request\u001b[1;34m(self, conn, method, url, timeout, chunked, **httplib_request_kw)\u001b[0m\n\u001b[0;32m    438\u001b[0m                 \u001b[1;31m# Python 3\u001b[0m\u001b[1;33m\u001b[0m\u001b[1;33m\u001b[0m\u001b[1;33m\u001b[0m\u001b[0m\n\u001b[0;32m    439\u001b[0m                 \u001b[1;32mtry\u001b[0m\u001b[1;33m:\u001b[0m\u001b[1;33m\u001b[0m\u001b[1;33m\u001b[0m\u001b[0m\n\u001b[1;32m--> 440\u001b[1;33m                     \u001b[0mhttplib_response\u001b[0m \u001b[1;33m=\u001b[0m \u001b[0mconn\u001b[0m\u001b[1;33m.\u001b[0m\u001b[0mgetresponse\u001b[0m\u001b[1;33m(\u001b[0m\u001b[1;33m)\u001b[0m\u001b[1;33m\u001b[0m\u001b[1;33m\u001b[0m\u001b[0m\n\u001b[0m\u001b[0;32m    441\u001b[0m                 \u001b[1;32mexcept\u001b[0m \u001b[0mBaseException\u001b[0m \u001b[1;32mas\u001b[0m \u001b[0me\u001b[0m\u001b[1;33m:\u001b[0m\u001b[1;33m\u001b[0m\u001b[1;33m\u001b[0m\u001b[0m\n\u001b[0;32m    442\u001b[0m                     \u001b[1;31m# Remove the TypeError from the exception chain in\u001b[0m\u001b[1;33m\u001b[0m\u001b[1;33m\u001b[0m\u001b[1;33m\u001b[0m\u001b[0m\n",
      "\u001b[1;32m~\\AppData\\Local\\Programs\\Python\\Python39\\lib\\http\\client.py\u001b[0m in \u001b[0;36mgetresponse\u001b[1;34m(self)\u001b[0m\n\u001b[0;32m   1345\u001b[0m         \u001b[1;32mtry\u001b[0m\u001b[1;33m:\u001b[0m\u001b[1;33m\u001b[0m\u001b[1;33m\u001b[0m\u001b[0m\n\u001b[0;32m   1346\u001b[0m             \u001b[1;32mtry\u001b[0m\u001b[1;33m:\u001b[0m\u001b[1;33m\u001b[0m\u001b[1;33m\u001b[0m\u001b[0m\n\u001b[1;32m-> 1347\u001b[1;33m                 \u001b[0mresponse\u001b[0m\u001b[1;33m.\u001b[0m\u001b[0mbegin\u001b[0m\u001b[1;33m(\u001b[0m\u001b[1;33m)\u001b[0m\u001b[1;33m\u001b[0m\u001b[1;33m\u001b[0m\u001b[0m\n\u001b[0m\u001b[0;32m   1348\u001b[0m             \u001b[1;32mexcept\u001b[0m \u001b[0mConnectionError\u001b[0m\u001b[1;33m:\u001b[0m\u001b[1;33m\u001b[0m\u001b[1;33m\u001b[0m\u001b[0m\n\u001b[0;32m   1349\u001b[0m                 \u001b[0mself\u001b[0m\u001b[1;33m.\u001b[0m\u001b[0mclose\u001b[0m\u001b[1;33m(\u001b[0m\u001b[1;33m)\u001b[0m\u001b[1;33m\u001b[0m\u001b[1;33m\u001b[0m\u001b[0m\n",
      "\u001b[1;32m~\\AppData\\Local\\Programs\\Python\\Python39\\lib\\http\\client.py\u001b[0m in \u001b[0;36mbegin\u001b[1;34m(self)\u001b[0m\n\u001b[0;32m    305\u001b[0m         \u001b[1;31m# read until we get a non-100 response\u001b[0m\u001b[1;33m\u001b[0m\u001b[1;33m\u001b[0m\u001b[1;33m\u001b[0m\u001b[0m\n\u001b[0;32m    306\u001b[0m         \u001b[1;32mwhile\u001b[0m \u001b[1;32mTrue\u001b[0m\u001b[1;33m:\u001b[0m\u001b[1;33m\u001b[0m\u001b[1;33m\u001b[0m\u001b[0m\n\u001b[1;32m--> 307\u001b[1;33m             \u001b[0mversion\u001b[0m\u001b[1;33m,\u001b[0m \u001b[0mstatus\u001b[0m\u001b[1;33m,\u001b[0m \u001b[0mreason\u001b[0m \u001b[1;33m=\u001b[0m \u001b[0mself\u001b[0m\u001b[1;33m.\u001b[0m\u001b[0m_read_status\u001b[0m\u001b[1;33m(\u001b[0m\u001b[1;33m)\u001b[0m\u001b[1;33m\u001b[0m\u001b[1;33m\u001b[0m\u001b[0m\n\u001b[0m\u001b[0;32m    308\u001b[0m             \u001b[1;32mif\u001b[0m \u001b[0mstatus\u001b[0m \u001b[1;33m!=\u001b[0m \u001b[0mCONTINUE\u001b[0m\u001b[1;33m:\u001b[0m\u001b[1;33m\u001b[0m\u001b[1;33m\u001b[0m\u001b[0m\n\u001b[0;32m    309\u001b[0m                 \u001b[1;32mbreak\u001b[0m\u001b[1;33m\u001b[0m\u001b[1;33m\u001b[0m\u001b[0m\n",
      "\u001b[1;32m~\\AppData\\Local\\Programs\\Python\\Python39\\lib\\http\\client.py\u001b[0m in \u001b[0;36m_read_status\u001b[1;34m(self)\u001b[0m\n\u001b[0;32m    266\u001b[0m \u001b[1;33m\u001b[0m\u001b[0m\n\u001b[0;32m    267\u001b[0m     \u001b[1;32mdef\u001b[0m \u001b[0m_read_status\u001b[0m\u001b[1;33m(\u001b[0m\u001b[0mself\u001b[0m\u001b[1;33m)\u001b[0m\u001b[1;33m:\u001b[0m\u001b[1;33m\u001b[0m\u001b[1;33m\u001b[0m\u001b[0m\n\u001b[1;32m--> 268\u001b[1;33m         \u001b[0mline\u001b[0m \u001b[1;33m=\u001b[0m \u001b[0mstr\u001b[0m\u001b[1;33m(\u001b[0m\u001b[0mself\u001b[0m\u001b[1;33m.\u001b[0m\u001b[0mfp\u001b[0m\u001b[1;33m.\u001b[0m\u001b[0mreadline\u001b[0m\u001b[1;33m(\u001b[0m\u001b[0m_MAXLINE\u001b[0m \u001b[1;33m+\u001b[0m \u001b[1;36m1\u001b[0m\u001b[1;33m)\u001b[0m\u001b[1;33m,\u001b[0m \u001b[1;34m\"iso-8859-1\"\u001b[0m\u001b[1;33m)\u001b[0m\u001b[1;33m\u001b[0m\u001b[1;33m\u001b[0m\u001b[0m\n\u001b[0m\u001b[0;32m    269\u001b[0m         \u001b[1;32mif\u001b[0m \u001b[0mlen\u001b[0m\u001b[1;33m(\u001b[0m\u001b[0mline\u001b[0m\u001b[1;33m)\u001b[0m \u001b[1;33m>\u001b[0m \u001b[0m_MAXLINE\u001b[0m\u001b[1;33m:\u001b[0m\u001b[1;33m\u001b[0m\u001b[1;33m\u001b[0m\u001b[0m\n\u001b[0;32m    270\u001b[0m             \u001b[1;32mraise\u001b[0m \u001b[0mLineTooLong\u001b[0m\u001b[1;33m(\u001b[0m\u001b[1;34m\"status line\"\u001b[0m\u001b[1;33m)\u001b[0m\u001b[1;33m\u001b[0m\u001b[1;33m\u001b[0m\u001b[0m\n",
      "\u001b[1;32m~\\AppData\\Local\\Programs\\Python\\Python39\\lib\\socket.py\u001b[0m in \u001b[0;36mreadinto\u001b[1;34m(self, b)\u001b[0m\n\u001b[0;32m    702\u001b[0m         \u001b[1;32mwhile\u001b[0m \u001b[1;32mTrue\u001b[0m\u001b[1;33m:\u001b[0m\u001b[1;33m\u001b[0m\u001b[1;33m\u001b[0m\u001b[0m\n\u001b[0;32m    703\u001b[0m             \u001b[1;32mtry\u001b[0m\u001b[1;33m:\u001b[0m\u001b[1;33m\u001b[0m\u001b[1;33m\u001b[0m\u001b[0m\n\u001b[1;32m--> 704\u001b[1;33m                 \u001b[1;32mreturn\u001b[0m \u001b[0mself\u001b[0m\u001b[1;33m.\u001b[0m\u001b[0m_sock\u001b[0m\u001b[1;33m.\u001b[0m\u001b[0mrecv_into\u001b[0m\u001b[1;33m(\u001b[0m\u001b[0mb\u001b[0m\u001b[1;33m)\u001b[0m\u001b[1;33m\u001b[0m\u001b[1;33m\u001b[0m\u001b[0m\n\u001b[0m\u001b[0;32m    705\u001b[0m             \u001b[1;32mexcept\u001b[0m \u001b[0mtimeout\u001b[0m\u001b[1;33m:\u001b[0m\u001b[1;33m\u001b[0m\u001b[1;33m\u001b[0m\u001b[0m\n\u001b[0;32m    706\u001b[0m                 \u001b[0mself\u001b[0m\u001b[1;33m.\u001b[0m\u001b[0m_timeout_occurred\u001b[0m \u001b[1;33m=\u001b[0m \u001b[1;32mTrue\u001b[0m\u001b[1;33m\u001b[0m\u001b[1;33m\u001b[0m\u001b[0m\n",
      "\u001b[1;32m~\\AppData\\Local\\Programs\\Python\\Python39\\lib\\ssl.py\u001b[0m in \u001b[0;36mrecv_into\u001b[1;34m(self, buffer, nbytes, flags)\u001b[0m\n\u001b[0;32m   1239\u001b[0m                   \u001b[1;34m\"non-zero flags not allowed in calls to recv_into() on %s\"\u001b[0m \u001b[1;33m%\u001b[0m\u001b[1;33m\u001b[0m\u001b[1;33m\u001b[0m\u001b[0m\n\u001b[0;32m   1240\u001b[0m                   self.__class__)\n\u001b[1;32m-> 1241\u001b[1;33m             \u001b[1;32mreturn\u001b[0m \u001b[0mself\u001b[0m\u001b[1;33m.\u001b[0m\u001b[0mread\u001b[0m\u001b[1;33m(\u001b[0m\u001b[0mnbytes\u001b[0m\u001b[1;33m,\u001b[0m \u001b[0mbuffer\u001b[0m\u001b[1;33m)\u001b[0m\u001b[1;33m\u001b[0m\u001b[1;33m\u001b[0m\u001b[0m\n\u001b[0m\u001b[0;32m   1242\u001b[0m         \u001b[1;32melse\u001b[0m\u001b[1;33m:\u001b[0m\u001b[1;33m\u001b[0m\u001b[1;33m\u001b[0m\u001b[0m\n\u001b[0;32m   1243\u001b[0m             \u001b[1;32mreturn\u001b[0m \u001b[0msuper\u001b[0m\u001b[1;33m(\u001b[0m\u001b[1;33m)\u001b[0m\u001b[1;33m.\u001b[0m\u001b[0mrecv_into\u001b[0m\u001b[1;33m(\u001b[0m\u001b[0mbuffer\u001b[0m\u001b[1;33m,\u001b[0m \u001b[0mnbytes\u001b[0m\u001b[1;33m,\u001b[0m \u001b[0mflags\u001b[0m\u001b[1;33m)\u001b[0m\u001b[1;33m\u001b[0m\u001b[1;33m\u001b[0m\u001b[0m\n",
      "\u001b[1;32m~\\AppData\\Local\\Programs\\Python\\Python39\\lib\\ssl.py\u001b[0m in \u001b[0;36mread\u001b[1;34m(self, len, buffer)\u001b[0m\n\u001b[0;32m   1097\u001b[0m         \u001b[1;32mtry\u001b[0m\u001b[1;33m:\u001b[0m\u001b[1;33m\u001b[0m\u001b[1;33m\u001b[0m\u001b[0m\n\u001b[0;32m   1098\u001b[0m             \u001b[1;32mif\u001b[0m \u001b[0mbuffer\u001b[0m \u001b[1;32mis\u001b[0m \u001b[1;32mnot\u001b[0m \u001b[1;32mNone\u001b[0m\u001b[1;33m:\u001b[0m\u001b[1;33m\u001b[0m\u001b[1;33m\u001b[0m\u001b[0m\n\u001b[1;32m-> 1099\u001b[1;33m                 \u001b[1;32mreturn\u001b[0m \u001b[0mself\u001b[0m\u001b[1;33m.\u001b[0m\u001b[0m_sslobj\u001b[0m\u001b[1;33m.\u001b[0m\u001b[0mread\u001b[0m\u001b[1;33m(\u001b[0m\u001b[0mlen\u001b[0m\u001b[1;33m,\u001b[0m \u001b[0mbuffer\u001b[0m\u001b[1;33m)\u001b[0m\u001b[1;33m\u001b[0m\u001b[1;33m\u001b[0m\u001b[0m\n\u001b[0m\u001b[0;32m   1100\u001b[0m             \u001b[1;32melse\u001b[0m\u001b[1;33m:\u001b[0m\u001b[1;33m\u001b[0m\u001b[1;33m\u001b[0m\u001b[0m\n\u001b[0;32m   1101\u001b[0m                 \u001b[1;32mreturn\u001b[0m \u001b[0mself\u001b[0m\u001b[1;33m.\u001b[0m\u001b[0m_sslobj\u001b[0m\u001b[1;33m.\u001b[0m\u001b[0mread\u001b[0m\u001b[1;33m(\u001b[0m\u001b[0mlen\u001b[0m\u001b[1;33m)\u001b[0m\u001b[1;33m\u001b[0m\u001b[1;33m\u001b[0m\u001b[0m\n",
      "\u001b[1;31mKeyboardInterrupt\u001b[0m: "
     ]
    }
   ],
   "source": [
    "songs = []\n",
    "for x in p:\n",
    "    track_id = x['track']['id']\n",
    "    track_name = x['track']['name']\n",
    "    track_artists = x['track']['artists']\n",
    "    \n",
    "    annotation = None\n",
    "    lyric_score = None\n",
    "    annotation_score = None\n",
    "    \n",
    "    features = spotifyObject.audio_features(track_id)[0]\n",
    "\n",
    "    retries = 0\n",
    "    while retries < 3:\n",
    "        try:\n",
    "            song = geniusObject.search_song(title=track_name, artist=track_artists[0]['name'])\n",
    "        except Timeout as e:\n",
    "            retries += 1\n",
    "            continue            \n",
    "        break\n",
    "\n",
    "\n",
    "    try:\n",
    "        annotation = geniusObject.song_annotations(song.id)\n",
    "        lyric_score = analyser.polarity_scores(song.to_text())\n",
    "        annotation_score = analyser.polarity_scores(song.to_text())\n",
    "    except Exception as e:\n",
    "        print('############################')\n",
    "        print(e)\n",
    "        print('Error 1 For', track_name)\n",
    "        print('############################')\n",
    "\n",
    "    try:\n",
    "        songs.append({\n",
    "        # Spotify features\n",
    "        'name' : track_name,\n",
    "        'artists' : [d['name'] for d in track_artists],\n",
    "        'acousticness' : features['acousticness'],\n",
    "        'danceability' : features['danceability'],\n",
    "        'duration_ms' : features['duration_ms'],\n",
    "        'energy' : features['energy'],\n",
    "        'instrumentalness' : features['instrumentalness'],\n",
    "        'key' : features['key'],\n",
    "        'liveness' : features['liveness'],\n",
    "        'loudness' : features['loudness'],\n",
    "        'mode' : features['mode'],\n",
    "        'speechiness' : features['speechiness'],\n",
    "        'tempo' : features['tempo'],\n",
    "        'time_signature' : features['time_signature'],\n",
    "        'valence' : features['valence'],\n",
    "        \n",
    "        # Genius features\n",
    "        # 'lyrics' : song.lyrics if song else None,\n",
    "        # 'annotations' : annotation if annotation else None,\n",
    "        'nlp_lyrics' : lyric_score['compound'] if lyric_score else None,\n",
    "        'nlp_annotations' : annotation_score['compound'] if annotation_score else None,\n",
    "        \n",
    "        'valence+nlp' : round(features['valence']+(lyric_score['compound']+annotation_score['compound'])/100, 4) if song else features['valence'],\n",
    "        'mood': mood \n",
    "        })\n",
    "    except Exception as e:\n",
    "        print('############################')\n",
    "        print(e)\n",
    "        print('Error 2 For', track_name)\n",
    "        print('############################')\n"
   ]
  },
  {
   "cell_type": "code",
   "execution_count": 1047,
   "metadata": {},
   "outputs": [
    {
     "output_type": "execute_result",
     "data": {
      "text/plain": [
       "                                      name  \\\n",
       "0                              Remember Me   \n",
       "1                               North Face   \n",
       "2                                     Mine   \n",
       "3                                    Shine   \n",
       "4                                 Loverboy   \n",
       "..                                     ...   \n",
       "95                               Blind Man   \n",
       "96  Peaches (feat. Daniel Caesar & Giveon)   \n",
       "97             So Good At Being in Trouble   \n",
       "98                                Somehow.   \n",
       "99                             Missing Out   \n",
       "\n",
       "                                   artists  acousticness  danceability  \\\n",
       "0                                    [UMI]       0.45600         0.840   \n",
       "1                                   [ODIE]       0.79200         0.802   \n",
       "2                  [Alex Isley, Jack Dine]       0.82800         0.347   \n",
       "3                               [Cleo Sol]       0.68600         0.742   \n",
       "4                                 [Joesef]       0.59400         0.356   \n",
       "..                                     ...           ...           ...   \n",
       "95                           [Xavier Omär]       0.45300         0.890   \n",
       "96  [Justin Bieber, Daniel Caesar, Giveon]       0.32100         0.677   \n",
       "97              [Unknown Mortal Orchestra]       0.03630         0.829   \n",
       "98                             [Phony Ppl]       0.71900         0.502   \n",
       "99                                   [Syd]       0.00761         0.705   \n",
       "\n",
       "    duration_ms  energy  instrumentalness  key  liveness  loudness  mode  \\\n",
       "0        199227   0.344          0.000034    5    0.3500    -8.613     0   \n",
       "1        196800   0.382          0.163000   10    0.0783    -7.356     1   \n",
       "2        212571   0.395          0.000011    6    0.1250    -9.278     0   \n",
       "3        226118   0.504          0.517000    1    0.1030   -10.105     1   \n",
       "4        238123   0.611          0.000000   11    0.1190    -7.219     0   \n",
       "..          ...     ...               ...  ...       ...       ...   ...   \n",
       "95       242196   0.523          0.000002    6    0.0831    -8.526     1   \n",
       "96       198082   0.696          0.000000    0    0.4200    -6.181     1   \n",
       "97       230147   0.435          0.878000    0    0.1190   -10.136     1   \n",
       "98       230973   0.399          0.003630   11    0.6450    -9.934     1   \n",
       "99       239744   0.528          0.004120   11    0.1290    -5.582     1   \n",
       "\n",
       "    speechiness    tempo  time_signature  valence  nlp_lyrics  \\\n",
       "0        0.0374  111.994               4    0.526      0.7286   \n",
       "1        0.0312   99.969               4    0.581      0.9486   \n",
       "2        0.0567   67.492               4    0.133      0.8880   \n",
       "3        0.0392  140.000               4    0.601      0.9515   \n",
       "4        0.0567   79.338               4    0.524      0.9765   \n",
       "..          ...      ...             ...      ...         ...   \n",
       "95       0.0560  111.031               4    0.345      0.9992   \n",
       "96       0.1190   90.030               4    0.464      0.9889   \n",
       "97       0.0515  103.816               4    0.594     -0.7326   \n",
       "98       0.0295   92.904               4    0.124      0.2887   \n",
       "99       0.0416  119.816               4    0.272     -0.9540   \n",
       "\n",
       "    nlp_annotations  valence+nlp   mood  \n",
       "0            0.7286       0.5406  Chill  \n",
       "1            0.9486       0.6000  Chill  \n",
       "2            0.8880       0.1508  Chill  \n",
       "3            0.9515       0.6200  Chill  \n",
       "4            0.9765       0.5435  Chill  \n",
       "..              ...          ...    ...  \n",
       "95           0.9992       0.3650  Chill  \n",
       "96           0.9889       0.4838  Chill  \n",
       "97          -0.7326       0.5793  Chill  \n",
       "98           0.2887       0.1298  Chill  \n",
       "99          -0.9540       0.2529  Chill  \n",
       "\n",
       "[100 rows x 19 columns]"
      ],
      "text/html": "<div>\n<style scoped>\n    .dataframe tbody tr th:only-of-type {\n        vertical-align: middle;\n    }\n\n    .dataframe tbody tr th {\n        vertical-align: top;\n    }\n\n    .dataframe thead th {\n        text-align: right;\n    }\n</style>\n<table border=\"1\" class=\"dataframe\">\n  <thead>\n    <tr style=\"text-align: right;\">\n      <th></th>\n      <th>name</th>\n      <th>artists</th>\n      <th>acousticness</th>\n      <th>danceability</th>\n      <th>duration_ms</th>\n      <th>energy</th>\n      <th>instrumentalness</th>\n      <th>key</th>\n      <th>liveness</th>\n      <th>loudness</th>\n      <th>mode</th>\n      <th>speechiness</th>\n      <th>tempo</th>\n      <th>time_signature</th>\n      <th>valence</th>\n      <th>nlp_lyrics</th>\n      <th>nlp_annotations</th>\n      <th>valence+nlp</th>\n      <th>mood</th>\n    </tr>\n  </thead>\n  <tbody>\n    <tr>\n      <th>0</th>\n      <td>Remember Me</td>\n      <td>[UMI]</td>\n      <td>0.45600</td>\n      <td>0.840</td>\n      <td>199227</td>\n      <td>0.344</td>\n      <td>0.000034</td>\n      <td>5</td>\n      <td>0.3500</td>\n      <td>-8.613</td>\n      <td>0</td>\n      <td>0.0374</td>\n      <td>111.994</td>\n      <td>4</td>\n      <td>0.526</td>\n      <td>0.7286</td>\n      <td>0.7286</td>\n      <td>0.5406</td>\n      <td>Chill</td>\n    </tr>\n    <tr>\n      <th>1</th>\n      <td>North Face</td>\n      <td>[ODIE]</td>\n      <td>0.79200</td>\n      <td>0.802</td>\n      <td>196800</td>\n      <td>0.382</td>\n      <td>0.163000</td>\n      <td>10</td>\n      <td>0.0783</td>\n      <td>-7.356</td>\n      <td>1</td>\n      <td>0.0312</td>\n      <td>99.969</td>\n      <td>4</td>\n      <td>0.581</td>\n      <td>0.9486</td>\n      <td>0.9486</td>\n      <td>0.6000</td>\n      <td>Chill</td>\n    </tr>\n    <tr>\n      <th>2</th>\n      <td>Mine</td>\n      <td>[Alex Isley, Jack Dine]</td>\n      <td>0.82800</td>\n      <td>0.347</td>\n      <td>212571</td>\n      <td>0.395</td>\n      <td>0.000011</td>\n      <td>6</td>\n      <td>0.1250</td>\n      <td>-9.278</td>\n      <td>0</td>\n      <td>0.0567</td>\n      <td>67.492</td>\n      <td>4</td>\n      <td>0.133</td>\n      <td>0.8880</td>\n      <td>0.8880</td>\n      <td>0.1508</td>\n      <td>Chill</td>\n    </tr>\n    <tr>\n      <th>3</th>\n      <td>Shine</td>\n      <td>[Cleo Sol]</td>\n      <td>0.68600</td>\n      <td>0.742</td>\n      <td>226118</td>\n      <td>0.504</td>\n      <td>0.517000</td>\n      <td>1</td>\n      <td>0.1030</td>\n      <td>-10.105</td>\n      <td>1</td>\n      <td>0.0392</td>\n      <td>140.000</td>\n      <td>4</td>\n      <td>0.601</td>\n      <td>0.9515</td>\n      <td>0.9515</td>\n      <td>0.6200</td>\n      <td>Chill</td>\n    </tr>\n    <tr>\n      <th>4</th>\n      <td>Loverboy</td>\n      <td>[Joesef]</td>\n      <td>0.59400</td>\n      <td>0.356</td>\n      <td>238123</td>\n      <td>0.611</td>\n      <td>0.000000</td>\n      <td>11</td>\n      <td>0.1190</td>\n      <td>-7.219</td>\n      <td>0</td>\n      <td>0.0567</td>\n      <td>79.338</td>\n      <td>4</td>\n      <td>0.524</td>\n      <td>0.9765</td>\n      <td>0.9765</td>\n      <td>0.5435</td>\n      <td>Chill</td>\n    </tr>\n    <tr>\n      <th>...</th>\n      <td>...</td>\n      <td>...</td>\n      <td>...</td>\n      <td>...</td>\n      <td>...</td>\n      <td>...</td>\n      <td>...</td>\n      <td>...</td>\n      <td>...</td>\n      <td>...</td>\n      <td>...</td>\n      <td>...</td>\n      <td>...</td>\n      <td>...</td>\n      <td>...</td>\n      <td>...</td>\n      <td>...</td>\n      <td>...</td>\n      <td>...</td>\n    </tr>\n    <tr>\n      <th>95</th>\n      <td>Blind Man</td>\n      <td>[Xavier Omär]</td>\n      <td>0.45300</td>\n      <td>0.890</td>\n      <td>242196</td>\n      <td>0.523</td>\n      <td>0.000002</td>\n      <td>6</td>\n      <td>0.0831</td>\n      <td>-8.526</td>\n      <td>1</td>\n      <td>0.0560</td>\n      <td>111.031</td>\n      <td>4</td>\n      <td>0.345</td>\n      <td>0.9992</td>\n      <td>0.9992</td>\n      <td>0.3650</td>\n      <td>Chill</td>\n    </tr>\n    <tr>\n      <th>96</th>\n      <td>Peaches (feat. Daniel Caesar &amp; Giveon)</td>\n      <td>[Justin Bieber, Daniel Caesar, Giveon]</td>\n      <td>0.32100</td>\n      <td>0.677</td>\n      <td>198082</td>\n      <td>0.696</td>\n      <td>0.000000</td>\n      <td>0</td>\n      <td>0.4200</td>\n      <td>-6.181</td>\n      <td>1</td>\n      <td>0.1190</td>\n      <td>90.030</td>\n      <td>4</td>\n      <td>0.464</td>\n      <td>0.9889</td>\n      <td>0.9889</td>\n      <td>0.4838</td>\n      <td>Chill</td>\n    </tr>\n    <tr>\n      <th>97</th>\n      <td>So Good At Being in Trouble</td>\n      <td>[Unknown Mortal Orchestra]</td>\n      <td>0.03630</td>\n      <td>0.829</td>\n      <td>230147</td>\n      <td>0.435</td>\n      <td>0.878000</td>\n      <td>0</td>\n      <td>0.1190</td>\n      <td>-10.136</td>\n      <td>1</td>\n      <td>0.0515</td>\n      <td>103.816</td>\n      <td>4</td>\n      <td>0.594</td>\n      <td>-0.7326</td>\n      <td>-0.7326</td>\n      <td>0.5793</td>\n      <td>Chill</td>\n    </tr>\n    <tr>\n      <th>98</th>\n      <td>Somehow.</td>\n      <td>[Phony Ppl]</td>\n      <td>0.71900</td>\n      <td>0.502</td>\n      <td>230973</td>\n      <td>0.399</td>\n      <td>0.003630</td>\n      <td>11</td>\n      <td>0.6450</td>\n      <td>-9.934</td>\n      <td>1</td>\n      <td>0.0295</td>\n      <td>92.904</td>\n      <td>4</td>\n      <td>0.124</td>\n      <td>0.2887</td>\n      <td>0.2887</td>\n      <td>0.1298</td>\n      <td>Chill</td>\n    </tr>\n    <tr>\n      <th>99</th>\n      <td>Missing Out</td>\n      <td>[Syd]</td>\n      <td>0.00761</td>\n      <td>0.705</td>\n      <td>239744</td>\n      <td>0.528</td>\n      <td>0.004120</td>\n      <td>11</td>\n      <td>0.1290</td>\n      <td>-5.582</td>\n      <td>1</td>\n      <td>0.0416</td>\n      <td>119.816</td>\n      <td>4</td>\n      <td>0.272</td>\n      <td>-0.9540</td>\n      <td>-0.9540</td>\n      <td>0.2529</td>\n      <td>Chill</td>\n    </tr>\n  </tbody>\n</table>\n<p>100 rows × 19 columns</p>\n</div>"
     },
     "metadata": {},
     "execution_count": 1047
    }
   ],
   "source": [
    "df = pd.DataFrame(songs)\n",
    "df"
   ]
  },
  {
   "cell_type": "code",
   "execution_count": 1048,
   "metadata": {},
   "outputs": [],
   "source": [
    "invalid = '<>:\"/\\|?*'\r\n",
    "\r\n",
    "for char in invalid:\r\n",
    "\tplaylist_name = playlist_name.replace(char, '')\r\n",
    "\r\n",
    "df.to_csv('datasets/' + playlist_name + '.csv')"
   ]
  }
 ]
}